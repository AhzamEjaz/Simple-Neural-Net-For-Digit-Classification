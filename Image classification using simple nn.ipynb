{
 "cells": [
  {
   "cell_type": "markdown",
   "id": "70ac17be-5b0e-45b7-afe1-48192863b4a5",
   "metadata": {},
   "source": [
    "- Design Model.\n",
    "- Construct loss and optimizer.\n",
    "- Training loop.\n",
    "    - Forward  : Compute prediction and loss\n",
    "    - Backward : Compute Gradiante\n",
    "    - Update weights and biases."
   ]
  },
  {
   "cell_type": "code",
   "execution_count": 1,
   "id": "77b44888-2120-4395-b630-f4d147fd3fed",
   "metadata": {
    "tags": []
   },
   "outputs": [],
   "source": [
    "import torch as t\n",
    "from torch import nn\n",
    "import torchvision\n",
    "import torchvision.transforms as transforms\n",
    "import matplotlib.pyplot as plt\n",
    "\n",
    "import matplotlib.pyplot as plt"
   ]
  },
  {
   "cell_type": "code",
   "execution_count": 2,
   "id": "98040854-d9b3-4559-886c-1f7bf4426c4f",
   "metadata": {
    "tags": []
   },
   "outputs": [],
   "source": [
    "train_dataset = torchvision.datasets.MNIST(root='./data',\n",
    "                                          train=True,\n",
    "                                          transform=transforms.ToTensor(),\n",
    "                                          download=True)\n",
    "test_dataset = torchvision.datasets.MNIST(root='./data',\n",
    "                                        train=False,\n",
    "                                        transform=transforms.ToTensor())"
   ]
  },
  {
   "cell_type": "code",
   "execution_count": 3,
   "id": "cc644488-88f1-4d6e-83d3-12da104dca81",
   "metadata": {
    "tags": []
   },
   "outputs": [],
   "source": [
    "# Data loader is creating an iterator that is iterating over a batch of 500 images and labels.\n",
    "batch_size = 500\n",
    "train_loader = t.utils.data.DataLoader(dataset=train_dataset,\n",
    "                                          batch_size=batch_size,\n",
    "                                          shuffle=True)\n",
    "test_loader = t.utils.data.DataLoader(dataset=test_dataset,\n",
    "                                         batch_size=batch_size,\n",
    "                                         shuffle=True)"
   ]
  },
  {
   "cell_type": "code",
   "execution_count": 4,
   "id": "4df71a98-3dcb-41e6-94e5-765835a5e5ae",
   "metadata": {
    "tags": []
   },
   "outputs": [
    {
     "data": {
      "image/png": "[encoded data removed]",
      "text/plain": [
       "<Figure size 640x480 with 6 Axes>"
      ]
     },
     "metadata": {},
     "output_type": "display_data"
    }
   ],
   "source": [
    "examples = iter(test_loader)\n",
    "example_data, example_target = next(examples)\n",
    "# example_data consist of total 500 images\n",
    "for i in range(6):\n",
    "    plt.subplot(2,3,i+1)\n",
    "    plt.imshow(example_data[i][0], cmap='gray')"
   ]
  },
  {
   "cell_type": "code",
   "execution_count": 5,
   "id": "fcc58ade-96a3-421d-a834-9becdc00a972",
   "metadata": {
    "tags": []
   },
   "outputs": [],
   "source": [
    "class NeuralNet(nn.Module):\n",
    "    def __init__(self, input_size, hidden_size, n_classes):\n",
    "        super(NeuralNet, self).__init__()\n",
    "        self.l1 = nn.Linear(input_size, hidden_size)\n",
    "        self.relu1 = nn.ReLU()\n",
    "        self.l2 = nn.Linear(hidden_size, n_classes)\n",
    "    def forward(self, x):\n",
    "        out = self.l1(x)\n",
    "        out = self.relu1(out)\n",
    "        out = self.l2(out)\n",
    "        return out\n",
    "input_size = 784 # 28x28\n",
    "hidden_size = 500\n",
    "num_classes = 10\n",
    "\n",
    "model = NeuralNet(input_size, hidden_size, num_classes)"
   ]
  },
  {
   "cell_type": "code",
   "execution_count": 6,
   "id": "e0e38adc-b4a5-45f0-9ee9-85449d1c7f63",
   "metadata": {
    "tags": []
   },
   "outputs": [],
   "source": [
    "learning_rate = 0.001\n",
    "\n",
    "criterean = nn.CrossEntropyLoss()\n",
    "optim = t.optim.Adam(model.parameters(), lr=learning_rate)"
   ]
  },
  {
   "cell_type": "code",
   "execution_count": 7,
   "id": "b7d9b297-9254-4124-ad53-532d56eee266",
   "metadata": {
    "tags": []
   },
   "outputs": [
    {
     "name": "stdout",
     "output_type": "stream",
     "text": [
      "Epoch [1/10], Step [100/120], Loss: 0.3483\n",
      "Epoch [2/10], Step [100/120], Loss: 0.1468\n",
      "Epoch [3/10], Step [100/120], Loss: 0.2022\n",
      "Epoch [4/10], Step [100/120], Loss: 0.0784\n",
      "Epoch [5/10], Step [100/120], Loss: 0.1145\n",
      "Epoch [6/10], Step [100/120], Loss: 0.0637\n",
      "Epoch [7/10], Step [100/120], Loss: 0.0731\n",
      "Epoch [8/10], Step [100/120], Loss: 0.0433\n",
      "Epoch [9/10], Step [100/120], Loss: 0.0333\n",
      "Epoch [10/10], Step [100/120], Loss: 0.0524\n"
     ]
    }
   ],
   "source": [
    "num_epochs = 10\n",
    "for epoch in range(num_epochs):\n",
    "    for i, (images, labels) in enumerate(train_loader):\n",
    "        images=images.reshape(-1, 28* 28)\n",
    "        outputs=model(images)\n",
    "        loss=criterean(outputs, labels)\n",
    "        \n",
    "        loss.backward()\n",
    "        \n",
    "        optim.step()\n",
    "        optim.zero_grad()\n",
    "        if (i+1) % 100 == 0:\n",
    "            print (f'Epoch [{epoch+1}/{num_epochs}], Step [{i+1}/{len(train_loader)}], Loss: {loss.item():.4f}')"
   ]
  },
  {
   "cell_type": "code",
   "execution_count": 8,
   "id": "790aaab4-5778-433d-9476-39c097ea6921",
   "metadata": {
    "tags": []
   },
   "outputs": [
    {
     "name": "stdout",
     "output_type": "stream",
     "text": [
      "Accuracy of the model: 97.87 %\n"
     ]
    }
   ],
   "source": [
    "n_correct = 0\n",
    "n_samples = len(test_loader.dataset)\n",
    "with t.no_grad():\n",
    "    true_positive=0\n",
    "    for i, (images, labels) in enumerate(test_loader):\n",
    "        images = images.reshape(-1, 28*28)\n",
    "        preds = model(images)\n",
    "        preds = t.max(preds, axis=1)\n",
    "        preds = preds.indices.data\n",
    "        n_correct += (preds == labels).sum().item()\n",
    "acc = 100.0 * n_correct / n_samples\n",
    "print(f'Accuracy of the model: {acc} %')\n",
    "\n",
    "            "
   ]
  },
  {
   "cell_type": "code",
   "execution_count": 11,
   "id": "735e307c-3b36-47ea-bd5d-63eb304b8959",
   "metadata": {
    "tags": []
   },
   "outputs": [
    {
     "name": "stdout",
     "output_type": "stream",
     "text": [
      "original value: \t3\n",
      "Predicted value:\t3\n"
     ]
    },
    {
     "data": {
      "image/png": "[encoded data removed]",
      "text/plain": [
       "<Figure size 640x480 with 1 Axes>"
      ]
     },
     "metadata": {},
     "output_type": "display_data"
    }
   ],
   "source": [
    "with t.no_grad():\n",
    "    examples = iter(test_loader)\n",
    "    example_data, example_target = next(examples)\n",
    "    # example_data consist of total 500 images\n",
    "    input_val = example_data[0][0]\n",
    "    print(f'original value: \\t{example_target[0].item()}')\n",
    "    plt.imshow(input_val, cmap='gray')\n",
    "    input_reshape = input_val.reshape(-1, 28*28)\n",
    "    prediction_ = model.forward(input_reshape)\n",
    "    prediction_ = t.max(prediction_,1)\n",
    "    print(f'Predicted value:\\t{prediction_[1].item()}')"
   ]
  }
 ],
 "metadata": {
  "kernelspec": {
   "display_name": "Python 3 (ipykernel)",
   "language": "python",
   "name": "python3"
  },
  "language_info": {
   "codemirror_mode": {
    "name": "ipython",
    "version": 3
   },
   "file_extension": ".py",
   "mimetype": "text/x-python",
   "name": "python",
   "nbconvert_exporter": "python",
   "pygments_lexer": "ipython3",
   "version": "3.11.4"
  }
 },
 "nbformat": 4,
 "nbformat_minor": 5
}
